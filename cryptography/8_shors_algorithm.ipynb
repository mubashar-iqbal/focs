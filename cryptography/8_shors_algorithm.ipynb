{
 "cells": [
  {
   "cell_type": "code",
   "execution_count": null,
   "metadata": {},
   "outputs": [],
   "source": [
    "import math\n",
    "import random"
   ]
  },
  {
   "cell_type": "code",
   "execution_count": 26,
   "metadata": {},
   "outputs": [
    {
     "name": "stdout",
     "output_type": "stream",
     "text": [
      "Factors of N (p, q): 193 23499665\n"
     ]
    }
   ],
   "source": [
    "# greatest common divisor\n",
    "def gcd(a, b):\n",
    "    while b != 0:\n",
    "        a, b = b, a % b\n",
    "    return a\n",
    "\n",
    "def modexp(a, b, n):\n",
    "    result = 1\n",
    "    a = a % n\n",
    "    while b > 0:\n",
    "        if b % 2 == 1:\n",
    "            result = (result * a) % n\n",
    "        b //= 2\n",
    "        a = (a * a) % n\n",
    "    return result\n",
    "\n",
    "def shors_algorithm(N):\n",
    "    # Step 1: Choose a random number a < N\n",
    "    a = random.randint(2, N - 1)\n",
    "\n",
    "    # Step 2: Compute the greatest common divisor of a and N\n",
    "    d = gcd(a, N)\n",
    "    if d > 1:\n",
    "        return d\n",
    "\n",
    "    # Step 3: Use quantum period finding to find the period r of the function f(x) = a^x mod N\n",
    "    r = 2\n",
    "    while True:\n",
    "        # Calculate a^r mod N\n",
    "        ar_mod_N = modexp(a, r, N)\n",
    "        if ar_mod_N == 1:\n",
    "            break\n",
    "        r += 1\n",
    "\n",
    "    # Step 4: Use the period r to find factors of N\n",
    "    if r % 2 == 0:\n",
    "        x = modexp(a, r // 2, N)\n",
    "        p = gcd(x + 1, N)\n",
    "        q = gcd(x - 1, N)\n",
    "        return p, q\n",
    "\n",
    "# Example usage\n",
    "if __name__ == \"__main__\":\n",
    "    # Choose a large composite number to factorize\n",
    "    N = 4535435345  # N = p * q\n",
    "\n",
    "    # Factorize N using Shor's algorithm\n",
    "    p, q = shors_algorithm(N)\n",
    "    print(\"Factors of N (p, q):\", p, q)\n"
   ]
  }
 ],
 "metadata": {
  "kernelspec": {
   "display_name": "Python 3",
   "language": "python",
   "name": "python3"
  },
  "language_info": {
   "codemirror_mode": {
    "name": "ipython",
    "version": 3
   },
   "file_extension": ".py",
   "mimetype": "text/x-python",
   "name": "python",
   "nbconvert_exporter": "python",
   "pygments_lexer": "ipython3",
   "version": "3.11.1"
  }
 },
 "nbformat": 4,
 "nbformat_minor": 2
}
