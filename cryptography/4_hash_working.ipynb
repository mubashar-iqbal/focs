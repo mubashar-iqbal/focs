{
 "cells": [
  {
   "cell_type": "code",
   "execution_count": 1,
   "metadata": {},
   "outputs": [],
   "source": [
    "import hashlib"
   ]
  },
  {
   "cell_type": "code",
   "execution_count": 2,
   "metadata": {},
   "outputs": [
    {
     "name": "stdout",
     "output_type": "stream",
     "text": [
      "Original Message: Hello, World!\n",
      "Hashed Message: dffd6021bb2bd5b0af676290809ec3a53191dd81c7f70a4b28688a362182986f\n"
     ]
    }
   ],
   "source": [
    "# Define a message to be hashed\n",
    "message = \"Hello, World!\"\n",
    "\n",
    "# Create a hash object using SHA-256 algorithm\n",
    "hash_object = hashlib.sha256()\n",
    "\n",
    "# Update the hash object with the message\n",
    "hash_object.update(message.encode())\n",
    "\n",
    "# Get the hexadecimal representation of the hash\n",
    "hash_result = hash_object.hexdigest()\n",
    "\n",
    "# Print the original message and its hash\n",
    "print(\"Original Message:\", message)\n",
    "print(\"Hashed Message:\", hash_result)\n"
   ]
  }
 ],
 "metadata": {
  "kernelspec": {
   "display_name": "Python 3",
   "language": "python",
   "name": "python3"
  },
  "language_info": {
   "codemirror_mode": {
    "name": "ipython",
    "version": 3
   },
   "file_extension": ".py",
   "mimetype": "text/x-python",
   "name": "python",
   "nbconvert_exporter": "python",
   "pygments_lexer": "ipython3",
   "version": "3.11.1"
  }
 },
 "nbformat": 4,
 "nbformat_minor": 2
}
