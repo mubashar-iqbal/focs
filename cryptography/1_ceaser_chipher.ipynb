{
 "cells": [
  {
   "cell_type": "code",
   "execution_count": 2,
   "metadata": {},
   "outputs": [],
   "source": [
    "def caesar_encrypt(text, shift):\n",
    "    encrypted_text = \"\"\n",
    "    for char in text:\n",
    "        if char.isalpha():\n",
    "            if char.islower():\n",
    "                encrypted_text += chr((ord(char) - 97 + shift) % 26 + 97)\n",
    "            else:\n",
    "                encrypted_text += chr((ord(char) - 65 + shift) % 26 + 65)\n",
    "        else:\n",
    "            encrypted_text += char\n",
    "    return encrypted_text"
   ]
  },
  {
   "cell_type": "code",
   "execution_count": 3,
   "metadata": {},
   "outputs": [],
   "source": [
    "def caesar_decrypt(text, shift):\n",
    "    decrypted_text = \"\"\n",
    "    for char in text:\n",
    "        if char.isalpha():\n",
    "            if char.islower():\n",
    "                decrypted_text += chr((ord(char) - 97 - shift) % 26 + 97)\n",
    "            else:\n",
    "                decrypted_text += chr((ord(char) - 65 - shift) % 26 + 65)\n",
    "        else:\n",
    "            decrypted_text += char\n",
    "    return decrypted_text"
   ]
  },
  {
   "cell_type": "code",
   "execution_count": 4,
   "metadata": {},
   "outputs": [
    {
     "name": "stdout",
     "output_type": "stream",
     "text": [
      "Encrypted text: B C D\n",
      "Decrypted text: A B C\n"
     ]
    }
   ],
   "source": [
    "# Example usage:\n",
    "# plain_text = \"Hello, World!\"\n",
    "\n",
    "plain_text = \"A B C\"\n",
    "\n",
    "shift = 1\n",
    "encrypted_text = caesar_encrypt(plain_text, shift)\n",
    "print(\"Encrypted text:\", encrypted_text)\n",
    "\n",
    "decrypted_text = caesar_decrypt(encrypted_text, shift)\n",
    "print(\"Decrypted text:\", decrypted_text)"
   ]
  }
 ],
 "metadata": {
  "kernelspec": {
   "display_name": "Python 3",
   "language": "python",
   "name": "python3"
  },
  "language_info": {
   "codemirror_mode": {
    "name": "ipython",
    "version": 3
   },
   "file_extension": ".py",
   "mimetype": "text/x-python",
   "name": "python",
   "nbconvert_exporter": "python",
   "pygments_lexer": "ipython3",
   "version": "3.11.1"
  }
 },
 "nbformat": 4,
 "nbformat_minor": 2
}
