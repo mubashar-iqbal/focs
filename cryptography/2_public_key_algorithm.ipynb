{
 "cells": [
  {
   "cell_type": "code",
   "execution_count": 1,
   "metadata": {},
   "outputs": [
    {
     "name": "stdout",
     "output_type": "stream",
     "text": [
      "Requirement already satisfied: pycryptodome in c:\\users\\mubashar\\appdata\\local\\programs\\python\\python311\\lib\\site-packages (3.20.0)\n",
      "Note: you may need to restart the kernel to use updated packages.\n"
     ]
    },
    {
     "name": "stderr",
     "output_type": "stream",
     "text": [
      "\n",
      "[notice] A new release of pip available: 22.3.1 -> 24.0\n",
      "[notice] To update, run: python.exe -m pip install --upgrade pip\n"
     ]
    }
   ],
   "source": [
    "pip install pycryptodome"
   ]
  },
  {
   "cell_type": "code",
   "execution_count": 2,
   "metadata": {},
   "outputs": [],
   "source": [
    "from Crypto.PublicKey import RSA\n",
    "from Crypto.Cipher import PKCS1_OAEP"
   ]
  },
  {
   "cell_type": "code",
   "execution_count": 3,
   "metadata": {},
   "outputs": [
    {
     "name": "stdout",
     "output_type": "stream",
     "text": [
      "Encrypted message: b\"\\xb6\\x8b\\xba\\x9d?\\\\\\xa6\\x01@,\\xb9\\x80\\x84\\xeb\\x9cO\\xf8\\n\\x97\\xe6\\xed\\x01\\x8dz\\xeb\\xfet\\xc7F\\xb8\\x1dn\\xfa\\x03\\x9e\\xac\\xa1\\x93\\xd0\\xd0e|0\\xe9\\x82}\\x8c@5\\x94\\x1a=o\\x8d\\x8b\\xb4|\\x15!2oJy\\xf9y\\xfc\\x0e7\\xcf\\x1f\\x81b\\x8d%\\x93\\xcad''\\xcb1\\xa4\\x1c\\xa7\\xa4\\xe2\\x8c\\xfeq\\x17*\\xc1RS;\\x8b\\xec7n\\xf0)}\\x84S\\xfb\\xd1\\xefVU\\xd3\\xca\\xaa\\xf0p\\x84\\xec\\x827\\xb4n\\xb5\\x8f\\x8b\\x98s7\\xe2\\x91\\x0fG@h\\xa6\\xfb\\x90\\xcdu5\\xe6 r\\xd1-!\\xf4\\xbb\\xf8c\\xb5\\xcf\\x84\\xd4W\\x89k-\\xabn\\x08\\xcc\\xc4'\\xf9j\\xd5r\\xccK\\x82\\x8d\\x99(N\\xf3)\\xf3\\xc4\\xb0[\\xde\\xeeyjC\\x1f\\xe59\\xe4\\xac\\x81\\x8b\\xf6\\xe8S\\xcb9P\\xab\\x84q\\xc9\\x96\\x9e\\xc0HP\\xb4\\xee0\\x0f\\xe0\\xb2B\\xef\\xdc.S\\xd4\\xdep\\x04T\\xdf\\r1\\x83\\xf9\\xacHGPr\\xbadx\\x88Dh\\xe17j\\xb0<\\x1d|\\xceFA'\\x1d#\\xd8\\x00\\x88:O\"\n",
      "Decrypted message: Hello, this is a secret message!\n"
     ]
    }
   ],
   "source": [
    "# Generate RSA key pair (public and private keys)\n",
    "key_pair = RSA.generate(2048)\n",
    "\n",
    "# Get public and private keys\n",
    "public_key = key_pair.publickey()\n",
    "private_key = key_pair.export_key()\n",
    "\n",
    "# Message to be encrypted\n",
    "message = b\"Hello, this is a secret message!\"\n",
    "\n",
    "# Create cipher objects for encryption and decryption\n",
    "cipher_encrypt = PKCS1_OAEP.new(public_key)\n",
    "cipher_decrypt = PKCS1_OAEP.new(key_pair)\n",
    "\n",
    "# Encrypt the message\n",
    "encrypted_message = cipher_encrypt.encrypt(message)\n",
    "print(\"Encrypted message:\", encrypted_message)\n",
    "\n",
    "# Decrypt the message\n",
    "decrypted_message = cipher_decrypt.decrypt(encrypted_message)\n",
    "print(\"Decrypted message:\", decrypted_message.decode())"
   ]
  }
 ],
 "metadata": {
  "kernelspec": {
   "display_name": "Python 3",
   "language": "python",
   "name": "python3"
  },
  "language_info": {
   "codemirror_mode": {
    "name": "ipython",
    "version": 3
   },
   "file_extension": ".py",
   "mimetype": "text/x-python",
   "name": "python",
   "nbconvert_exporter": "python",
   "pygments_lexer": "ipython3",
   "version": "3.11.1"
  }
 },
 "nbformat": 4,
 "nbformat_minor": 2
}
