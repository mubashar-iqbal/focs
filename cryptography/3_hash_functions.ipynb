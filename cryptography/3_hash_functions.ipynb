{
 "cells": [
  {
   "cell_type": "code",
   "execution_count": 1,
   "metadata": {},
   "outputs": [],
   "source": [
    "import hashlib"
   ]
  },
  {
   "cell_type": "code",
   "execution_count": 5,
   "metadata": {},
   "outputs": [
    {
     "name": "stdout",
     "output_type": "stream",
     "text": [
      "MD5 hash: 6cd3556deb0da54bca060b4c39479839\n"
     ]
    }
   ],
   "source": [
    "def hash_md5(data):\n",
    "    \"\"\"Generate the MD5 hash of the input data.\"\"\"\n",
    "    md5_hash = hashlib.md5()\n",
    "    md5_hash.update(data.encode())\n",
    "    return md5_hash.hexdigest()\n",
    "\n",
    "# Example usage\n",
    "data = \"Hello, world!\"\n",
    "md5_result = hash_md5(data)\n",
    "print(\"MD5 hash:\", md5_result)"
   ]
  },
  {
   "cell_type": "code",
   "execution_count": 6,
   "metadata": {},
   "outputs": [
    {
     "name": "stdout",
     "output_type": "stream",
     "text": [
      "SHA1 hash: 943a702d06f34599aee1f8da8ef9f7296031d699\n"
     ]
    }
   ],
   "source": [
    "def hash_sha1(data):\n",
    "    \"\"\"Generate the SHA1 hash of the input data.\"\"\"\n",
    "    sha1_hash = hashlib.sha1()\n",
    "    sha1_hash.update(data.encode())\n",
    "    return sha1_hash.hexdigest()\n",
    "\n",
    "# Example usage\n",
    "data = \"Hello, world!\"\n",
    "sha1_result = hash_sha1(data)\n",
    "print(\"SHA1 hash:\", sha1_result)"
   ]
  },
  {
   "cell_type": "code",
   "execution_count": 7,
   "metadata": {},
   "outputs": [
    {
     "name": "stdout",
     "output_type": "stream",
     "text": [
      "SHA2 hash: 315f5bdb76d078c43b8ac0064e4a0164612b1fce77c869345bfc94c75894edd3\n"
     ]
    }
   ],
   "source": [
    "def hash_sha2(data):\n",
    "    \"\"\"Generate the SHA256 hash of the input data.\"\"\"\n",
    "    sha256_hash = hashlib.sha256()\n",
    "    sha256_hash.update(data.encode())\n",
    "    return sha256_hash.hexdigest()\n",
    "\n",
    "# Example usage\n",
    "data = \"Hello, world!\"\n",
    "sha2_result = hash_sha2(data)\n",
    "print(\"SHA2 hash:\", sha2_result)"
   ]
  },
  {
   "cell_type": "code",
   "execution_count": 8,
   "metadata": {},
   "outputs": [
    {
     "name": "stdout",
     "output_type": "stream",
     "text": [
      "SHA3 hash: 8e47f1185ffd014d238fabd02a1a32defe698cbf38c037a90e3c0a0a32370fb52cbd641250508502295fcabcbf676c09470b27443868c8e5f70e26dc337288af\n"
     ]
    }
   ],
   "source": [
    "def hash_sha3(data):\n",
    "    \"\"\"Generate the SHA3 hash of the input data.\"\"\"\n",
    "    sha3_hash = hashlib.sha3_512()\n",
    "    sha3_hash.update(data.encode())\n",
    "    return sha3_hash.hexdigest()\n",
    "\n",
    "# Example usage\n",
    "data = \"Hello, world!\"\n",
    "sha3_result = hash_sha3(data)\n",
    "print(\"SHA3 hash:\", sha3_result)"
   ]
  }
 ],
 "metadata": {
  "kernelspec": {
   "display_name": "Python 3",
   "language": "python",
   "name": "python3"
  },
  "language_info": {
   "codemirror_mode": {
    "name": "ipython",
    "version": 3
   },
   "file_extension": ".py",
   "mimetype": "text/x-python",
   "name": "python",
   "nbconvert_exporter": "python",
   "pygments_lexer": "ipython3",
   "version": "3.11.1"
  }
 },
 "nbformat": 4,
 "nbformat_minor": 2
}
