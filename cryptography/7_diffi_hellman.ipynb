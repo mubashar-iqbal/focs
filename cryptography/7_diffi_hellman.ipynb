{
 "cells": [
  {
   "cell_type": "code",
   "execution_count": 32,
   "metadata": {},
   "outputs": [],
   "source": [
    "import random"
   ]
  },
  {
   "cell_type": "code",
   "execution_count": 33,
   "metadata": {},
   "outputs": [],
   "source": [
    "# Function to generate a random prime number\n",
    "def generate_prime():\n",
    "    primes = [2, 3, 5, 7, 11, 13, 17, 19, 23, 29, 31, 37, 41, 43, 47, 53, 59, 61, 67, 71, 73, 79, 83, 89, 97]\n",
    "    return random.choice(primes)"
   ]
  },
  {
   "cell_type": "code",
   "execution_count": 34,
   "metadata": {},
   "outputs": [],
   "source": [
    "# Function to calculate modular exponentiation (base^exp mod modulus)\n",
    "def mod_exp(base, exp, modulus):\n",
    "    result = 1\n",
    "    base = base % modulus\n",
    "    while exp > 0:\n",
    "        if exp % 2 == 1:\n",
    "            result = (result * base) % modulus\n",
    "        exp //= 2\n",
    "        base = (base * base) % modulus\n",
    "    return result"
   ]
  },
  {
   "cell_type": "code",
   "execution_count": 35,
   "metadata": {},
   "outputs": [],
   "source": [
    "# Function to perform Diffie-Hellman key exchange\n",
    "def diffie_hellman():\n",
    "    # Generate prime number and primitive root modulo\n",
    "    p = generate_prime()\n",
    "    g = random.randint(2, p - 1)\n",
    "\n",
    "    # Alice's private key\n",
    "    a = random.randint(2, p - 2)\n",
    "    # Bob's private key\n",
    "    b = random.randint(2, p - 2)\n",
    "\n",
    "    # Calculate public keys\n",
    "    A = mod_exp(g, a, p)\n",
    "    B = mod_exp(g, b, p)\n",
    "\n",
    "    # Calculate shared secret\n",
    "    shared_secret_alice = mod_exp(B, a, p)\n",
    "    shared_secret_bob = mod_exp(A, b, p)\n",
    "\n",
    "    # Ensure shared secrets match\n",
    "    assert shared_secret_alice == shared_secret_bob\n",
    "\n",
    "    return shared_secret_alice, p, g, A, B"
   ]
  },
  {
   "cell_type": "code",
   "execution_count": 36,
   "metadata": {},
   "outputs": [
    {
     "name": "stdout",
     "output_type": "stream",
     "text": [
      "Prime number (p): 29\n",
      "Primitive root modulo (g): 5\n",
      "Alice's public key (A): 22\n",
      "Bob's public key (B): 9\n",
      "Shared secret: 5\n"
     ]
    }
   ],
   "source": [
    "# Perform Diffie-Hellman key exchange\n",
    "shared_secret, p, g, A, B = diffie_hellman()\n",
    "\n",
    "# Display results\n",
    "print(\"Prime number (p):\", p)\n",
    "print(\"Primitive root modulo (g):\", g)\n",
    "print(\"Alice's public key (A):\", A)\n",
    "print(\"Bob's public key (B):\", B)\n",
    "print(\"Shared secret:\", shared_secret)\n"
   ]
  }
 ],
 "metadata": {
  "kernelspec": {
   "display_name": "Python 3",
   "language": "python",
   "name": "python3"
  },
  "language_info": {
   "codemirror_mode": {
    "name": "ipython",
    "version": 3
   },
   "file_extension": ".py",
   "mimetype": "text/x-python",
   "name": "python",
   "nbconvert_exporter": "python",
   "pygments_lexer": "ipython3",
   "version": "3.11.1"
  }
 },
 "nbformat": 4,
 "nbformat_minor": 2
}
