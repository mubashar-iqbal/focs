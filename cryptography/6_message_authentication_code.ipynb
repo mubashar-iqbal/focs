{
 "cells": [
  {
   "cell_type": "code",
   "execution_count": 15,
   "metadata": {},
   "outputs": [],
   "source": [
    "import hmac\n",
    "import hashlib"
   ]
  },
  {
   "cell_type": "code",
   "execution_count": 16,
   "metadata": {},
   "outputs": [
    {
     "name": "stdout",
     "output_type": "stream",
     "text": [
      "Generated MAC: 3e22367bfa4b9c27a024a56a6ab963c785304d6f6f80d83ecd5550ab32833b69\n"
     ]
    }
   ],
   "source": [
    "# Secret key for HMAC\n",
    "secret_key = b'MySecretKey123'\n",
    "\n",
    "# Message to be authenticated\n",
    "message = b'Hello, world!'\n",
    "\n",
    "# Generating MAC\n",
    "mac = hmac.new(secret_key, message, hashlib.sha256).digest()\n",
    "\n",
    "# Displaying the generated MAC\n",
    "print(\"Generated MAC:\", mac.hex())"
   ]
  },
  {
   "cell_type": "code",
   "execution_count": 17,
   "metadata": {},
   "outputs": [],
   "source": [
    "# Message to be authenticated\n",
    "message = b'Hello, world!' #corrupted message"
   ]
  },
  {
   "cell_type": "code",
   "execution_count": 18,
   "metadata": {},
   "outputs": [
    {
     "name": "stdout",
     "output_type": "stream",
     "text": [
      "Verifier MAC: 3e22367bfa4b9c27a024a56a6ab963c785304d6f6f80d83ecd5550ab32833b69\n"
     ]
    }
   ],
   "source": [
    "# Assuming received MAC (for demonstration purposes)\n",
    "verifier_mac = hmac.new(secret_key, message, hashlib.sha256).digest()\n",
    "\n",
    "print(\"Verifier MAC:\", verifier_mac.hex())"
   ]
  },
  {
   "cell_type": "code",
   "execution_count": 19,
   "metadata": {},
   "outputs": [
    {
     "name": "stdout",
     "output_type": "stream",
     "text": [
      "MAC verification successful. Message is authentic.\n"
     ]
    }
   ],
   "source": [
    "# Verifying MAC\n",
    "if hmac.compare_digest(mac, verifier_mac):\n",
    "    print(\"MAC verification successful. Message is authentic.\")\n",
    "else:\n",
    "    print(\"MAC verification failed. Message may have been tampered with.\")\n"
   ]
  }
 ],
 "metadata": {
  "kernelspec": {
   "display_name": "Python 3",
   "language": "python",
   "name": "python3"
  },
  "language_info": {
   "codemirror_mode": {
    "name": "ipython",
    "version": 3
   },
   "file_extension": ".py",
   "mimetype": "text/x-python",
   "name": "python",
   "nbconvert_exporter": "python",
   "pygments_lexer": "ipython3",
   "version": "3.11.1"
  }
 },
 "nbformat": 4,
 "nbformat_minor": 2
}
